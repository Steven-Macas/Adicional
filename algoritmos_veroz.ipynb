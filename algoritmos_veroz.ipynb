{
  "nbformat": 4,
  "nbformat_minor": 0,
  "metadata": {
    "colab": {
      "provenance": [],
      "collapsed_sections": [],
      "authorship_tag": "ABX9TyPBR6EVIHHblB5K419t4iSp",
      "include_colab_link": true
    },
    "kernelspec": {
      "name": "python3",
      "display_name": "Python 3"
    },
    "language_info": {
      "name": "python"
    }
  },
  "cells": [
    {
      "cell_type": "markdown",
      "metadata": {
        "id": "view-in-github",
        "colab_type": "text"
      },
      "source": [
        "<a href=\"https://colab.research.google.com/github/Steven-Macas/Adicional/blob/main/algoritmos_veroz.ipynb\" target=\"_parent\"><img src=\"https://colab.research.google.com/assets/colab-badge.svg\" alt=\"Open In Colab\"/></a>"
      ]
    },
    {
      "cell_type": "markdown",
      "source": [
        "**Resuelve estos problemas utilizando algoritmos voraces:**\n",
        "\n",
        "*1.       Antonio va a preparar un guiso de carne para invitar a todos sus amigos, para ello, necesita cocinar 10 kilos de carne. En casa tiene los siguientes productos, cada uno con el precio que ha pagado por ellos:*"
      ],
      "metadata": {
        "id": "12Aq5hY-O2iY"
      }
    },
    {
      "cell_type": "markdown",
      "source": [
        "\n",
        "·        3kg de conejo – 16€\n",
        "\n",
        "·        4kg de pollo – 16€\n",
        "\n",
        "·        6kg de ternera – 45€\n",
        "\n",
        "·        2kg de cerdo – 9.5€\n",
        "\n",
        "·        4 kg de pavo  - 25€\n",
        "\n",
        "Como es un poco tacaño, quiere que el guiso de carne le cueste el menor dinero posible ¿Qué carne tiene que añadir? ¿Cuánta cantidad de cada una?"
      ],
      "metadata": {
        "id": "dOPrZSyjuFhI"
      }
    },
    {
      "cell_type": "code",
      "source": [
        "def mostrar_result(result):\n",
        "  for i in range(len(result)):\n",
        "    print('Carne N', (i+1), ' escogida: ', result[i][0] ,'. Cantidad: ', result[i][1])\n",
        "\n",
        "def min_carne(carne,carne_indice):\n",
        "  total_kg = 0.0\n",
        "  escogidos = []\n",
        "  for a in range(len(carne_indice)):\n",
        "    for b in range(len(carne)):\n",
        "      if total_kg<=10.0:\n",
        "        if carne_indice[a] == carne[b][3]:\n",
        "          total_kg += carne[b][2]\n",
        "          escogidos.append([carne[b][0],carne[b][2]])\n",
        "      elif total_kg>10:\n",
        "        kg_mas=total_kg-10\n",
        "        ultimo = len(escogidos)-1\n",
        "        cant_necesaria = escogidos[ultimo][1]-kg_mas\n",
        "        nombre = escogidos[ultimo][0]\n",
        "        escogidos.pop()\n",
        "        escogidos.append([nombre,cant_necesaria])\n",
        "        break\n",
        "  return escogidos\n",
        "\n",
        "carne = []\n",
        "carne_indice = []\n",
        "n_tipos = int(input('¿Cuantos tipos de carne hay?: '))\n",
        "for n in range(n_tipos):\n",
        "  nombre =input('Nombre: ')\n",
        "  precio = float(input('Precio: '))\n",
        "  cantidad = float(input('Cantidad: '))\n",
        "  indice = precio/cantidad\n",
        "  carne.append([nombre, precio, cantidad,indice])\n",
        "  carne_indice.append(indice)\n",
        "\n",
        "carne_indice.sort()\n",
        "\n",
        "result = min_carne(carne,carne_indice)\n",
        "\n",
        "mostrar_result(result)"
      ],
      "metadata": {
        "id": "RQo7ZicYoBSI"
      },
      "execution_count": null,
      "outputs": []
    },
    {
      "cell_type": "markdown",
      "source": [
        "\n",
        "\n",
        "---\n",
        "\n"
      ],
      "metadata": {
        "id": "yr2FBkvAvNLX"
      }
    },
    {
      "cell_type": "markdown",
      "source": [
        "*2.      Manuel tiene en casa varios bonos de gasolina gratis que ha ganado repostando en su gasolinera habitual. Cada uno de los bonos es equivalente a la gasolina consumida en un trayecto de un número fijo de kilómetros. En concreto los siguientes bonos.*"
      ],
      "metadata": {
        "id": "ed24OOU3GQw4"
      }
    },
    {
      "cell_type": "markdown",
      "source": [
        "Mañana va a hacer un viaje al pueblo de la provincia de Madrid que está situado a 348 km. Suponiendo que tiene el depósito vacío, y que tiene que gastar el menor número de bonos \n",
        "¿Qué bonos debe emplear para llegar a su destino?\n",
        "\n",
        "·3 bonos de 100km\n",
        "\n",
        "·1 bono de 50km\n",
        "\n",
        "·4 bonos de 40km\n",
        "\n",
        "·2 bonos de 30km\n",
        "\n",
        "·8 bonos de 5 km\n",
        "\n",
        "·6 bonos de 1 km"
      ],
      "metadata": {
        "id": "kWEJzXWbu8un"
      }
    },
    {
      "cell_type": "code",
      "source": [
        "def minimo_bonos(bonos,bono_indice):\n",
        "  total_km = 0\n",
        "  escogidos_bonos = []\n",
        "  for a in range(len(bono_indice)):\n",
        "    for b in range(len(bonos)):\n",
        "      if bono_indice[a] == bonos[b][1]:\n",
        "        if bonos[b][0]>1:\n",
        "          for c in range(bonos[b][0]):\n",
        "            total_km += bonos[b][1]\n",
        "            if total_km>348:\n",
        "              total_km-=bonos[b][1]\n",
        "              break\n",
        "            else:\n",
        "              cantidad=c+1\n",
        "              escogidos_bonos.append([cantidad,bonos[b][1]])\n",
        "        elif bonos[b][0]==1:\n",
        "          total_km += bonos[b][1]\n",
        "          if total_km>348:\n",
        "              total_km-=bonos[b][1]\n",
        "          else:\n",
        "            escogidos_bonos.append([1,bonos[b][1]])\n",
        "  return escogidos_bonos\n",
        "\n",
        "def quitar_repe(escogidos_bonos):\n",
        "  diccionario={}\n",
        "  t=len(escogidos_bonos)\n",
        "  for h in range(t):\n",
        "      suma=0\n",
        "      for q in range(t):\n",
        "          if escogidos_bonos[h][1]==escogidos_bonos[q][1]:\n",
        "              suma+=1\n",
        "              diccionario[escogidos_bonos[h][1]]=suma\n",
        "  return diccionario"
      ],
      "metadata": {
        "id": "7BRCfCSnOhxz"
      },
      "execution_count": 47,
      "outputs": []
    },
    {
      "cell_type": "code",
      "source": [
        "bonos = []\n",
        "bono_indice = []\n",
        "n_tipos = int(input('¿Cuantos bonos hay?: '))\n",
        "for s in range(n_tipos):\n",
        "  cantidad = int(input('Cantidad del '+ str(s+1) +'º bono: '))\n",
        "  kilometros = int(input('Kilomentros: '))\n",
        "  bonos.append([cantidad, kilometros])\n",
        "  bono_indice.append(kilometros)\n",
        "\n",
        "bono_indice.sort(reverse = True)\n",
        "1\n",
        "escogidos_bonos = minimo_bonos(bonos,bono_indice)\n",
        "\n",
        "diccionario = quitar_repe(escogidos_bonos)\n",
        "\n",
        "for k,v in diccionario.items():\n",
        "      print(\"El bono de  \",k , \" se usó \" ,v, \" veces\")"
      ],
      "metadata": {
        "colab": {
          "base_uri": "https://localhost:8080/"
        },
        "id": "79MI41PEQL7O",
        "outputId": "3bdac3ae-47d9-4340-ec58-327215076abc"
      },
      "execution_count": 48,
      "outputs": [
        {
          "output_type": "stream",
          "name": "stdout",
          "text": [
            "¿Cuantos bonos hay?: 6\n",
            "Cantidad del 1º bono: 3\n",
            "Kilomentros: 100\n",
            "Cantidad del 2º bono: 1\n",
            "Kilomentros: 50\n",
            "Cantidad del 3º bono: 4\n",
            "Kilomentros: 40\n",
            "Cantidad del 4º bono: 2\n",
            "Kilomentros: 30\n",
            "Cantidad del 5º bono: 8\n",
            "Kilomentros: 5\n",
            "Cantidad del 6º bono: 6\n",
            "Kilomentros: 1\n",
            "El bono de   100  se usó  3  veces\n",
            "El bono de   40  se usó  1  veces\n",
            "El bono de   5  se usó  1  veces\n",
            "El bono de   1  se usó  3  veces\n"
          ]
        }
      ]
    }
  ]
}